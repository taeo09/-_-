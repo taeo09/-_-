{
  "nbformat": 4,
  "nbformat_minor": 0,
  "metadata": {
    "colab": {
      "provenance": [],
      "authorship_tag": "ABX9TyNWTk1gpmLkrYS22DPgDmdE",
      "include_colab_link": true
    },
    "kernelspec": {
      "name": "python3",
      "display_name": "Python 3"
    },
    "language_info": {
      "name": "python"
    }
  },
  "cells": [
    {
      "cell_type": "markdown",
      "metadata": {
        "id": "view-in-github",
        "colab_type": "text"
      },
      "source": [
        "<a href=\"https://colab.research.google.com/github/taeo09/Github-repository/blob/main/python_1.ipynb\" target=\"_parent\"><img src=\"https://colab.research.google.com/assets/colab-badge.svg\" alt=\"Open In Colab\"/></a>"
      ]
    },
    {
      "cell_type": "code",
      "execution_count": 1,
      "metadata": {
        "colab": {
          "base_uri": "https://localhost:8080/"
        },
        "id": "ePDZ1UlHtehw",
        "outputId": "82ee38b9-cb06-43e9-bec1-61cc22ebfb64"
      },
      "outputs": [
        {
          "output_type": "stream",
          "name": "stdout",
          "text": [
            "출력할 구구단 숫자를 입력하세요 (1~9): 6\n",
            "6단_구구단.txt 파일에 6단 구구단이 저장되었습니다.\n"
          ]
        }
      ],
      "source": [
        "def write_gugudan_to_file(n, filename):\n",
        "    if n < 1 or n > 9:\n",
        "        print(\"1부터 9까지의 숫자를 입력해주세요.\")\n",
        "        return\n",
        "    with open(filename, 'w', encoding='utf-8') as f:\n",
        "        for i in range(1, 10):\n",
        "            line = f\"{n} x {i} = {n*i}\\n\"\n",
        "            f.write(line)\n",
        "    print(f\"{filename} 파일에 {n}단 구구단이 저장되었습니다.\")\n",
        "\n",
        "if __name__ == \"__main__\":\n",
        "    try:\n",
        "        num = int(input(\"출력할 구구단 숫자를 입력하세요 (1~9): \"))\n",
        "        write_gugudan_to_file(num, f\"{num}단_구구단.txt\")\n",
        "    except ValueError:\n",
        "        print(\"숫자를 정확히 입력해주세요.\")"
      ]
    },
    {
      "cell_type": "code",
      "source": [
        "def print_gugudan(n):\n",
        "    if n < 1 or n > 9:\n",
        "        print(\"1부터 9까지의 숫자를 입력해주세요.\")\n",
        "        return\n",
        "    for i in range(1, 10):\n",
        "        print(f\"{n} x {i} = {n * i}\")\n",
        "\n",
        "if __name__ == \"__main__\":\n",
        "    try:\n",
        "        num = int(input(\"출력할 구구단 숫자를 입력하세요 (1~9): \"))\n",
        "        print_gugudan(num)\n",
        "    except ValueError:\n",
        "        print(\"숫자를 정확히 입력해주세요.\")\n"
      ],
      "metadata": {
        "colab": {
          "base_uri": "https://localhost:8080/"
        },
        "id": "tb9B_z-s0Jkr",
        "outputId": "8b59d3de-a81c-4790-a165-0f999b256c14"
      },
      "execution_count": 2,
      "outputs": [
        {
          "output_type": "stream",
          "name": "stdout",
          "text": [
            "출력할 구구단 숫자를 입력하세요 (1~9): 6\n",
            "6 x 1 = 6\n",
            "6 x 2 = 12\n",
            "6 x 3 = 18\n",
            "6 x 4 = 24\n",
            "6 x 5 = 30\n",
            "6 x 6 = 36\n",
            "6 x 7 = 42\n",
            "6 x 8 = 48\n",
            "6 x 9 = 54\n"
          ]
        }
      ]
    },
    {
      "cell_type": "markdown",
      "source": [
        "w3school"
      ],
      "metadata": {
        "id": "N2Rt7gD-ut06"
      }
    }
  ]
}